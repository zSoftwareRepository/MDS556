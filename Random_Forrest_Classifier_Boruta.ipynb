{
  "cells": [
    {
      "cell_type": "markdown",
      "metadata": {
        "id": "view-in-github",
        "colab_type": "text"
      },
      "source": [
        "<a href=\"https://colab.research.google.com/github/zSoftwareRepository/MDS556/blob/main/Random_Forrest_Classifier_Boruta.ipynb\" target=\"_parent\"><img src=\"https://colab.research.google.com/assets/colab-badge.svg\" alt=\"Open In Colab\"/></a>"
      ]
    },
    {
      "cell_type": "code",
      "source": [
        "pip install boruta"
      ],
      "metadata": {
        "colab": {
          "base_uri": "https://localhost:8080/"
        },
        "id": "l8Ku1fe1baLp",
        "outputId": "70de06a1-0241-4835-e2a7-2d6ea07edfd1"
      },
      "id": "l8Ku1fe1baLp",
      "execution_count": 2,
      "outputs": [
        {
          "output_type": "stream",
          "name": "stdout",
          "text": [
            "Looking in indexes: https://pypi.org/simple, https://us-python.pkg.dev/colab-wheels/public/simple/\n",
            "Collecting boruta\n",
            "  Downloading Boruta-0.3-py3-none-any.whl (56 kB)\n",
            "\u001b[K     |████████████████████████████████| 56 kB 3.1 MB/s \n",
            "\u001b[?25hRequirement already satisfied: numpy>=1.10.4 in /usr/local/lib/python3.8/dist-packages (from boruta) (1.21.6)\n",
            "Requirement already satisfied: scikit-learn>=0.17.1 in /usr/local/lib/python3.8/dist-packages (from boruta) (1.0.2)\n",
            "Requirement already satisfied: scipy>=0.17.0 in /usr/local/lib/python3.8/dist-packages (from boruta) (1.7.3)\n",
            "Requirement already satisfied: threadpoolctl>=2.0.0 in /usr/local/lib/python3.8/dist-packages (from scikit-learn>=0.17.1->boruta) (3.1.0)\n",
            "Requirement already satisfied: joblib>=0.11 in /usr/local/lib/python3.8/dist-packages (from scikit-learn>=0.17.1->boruta) (1.2.0)\n",
            "Installing collected packages: boruta\n",
            "Successfully installed boruta-0.3\n"
          ]
        }
      ]
    },
    {
      "cell_type": "code",
      "execution_count": 3,
      "id": "4726ac90",
      "metadata": {
        "id": "4726ac90"
      },
      "outputs": [],
      "source": [
        "# importing libraries\n",
        "\n",
        "import warnings\n",
        "#warnings.filterwarnings(\"ignore\")\n",
        "\n",
        "seed = 23\n",
        "\n",
        "import numpy as np\n",
        "np.random.seed(seed)\n",
        "\n",
        "import pandas as pd\n",
        "\n",
        "from sklearn.metrics import classification_report, confusion_matrix, accuracy_score, f1_score\n",
        "from sklearn.model_selection import train_test_split\n",
        "from sklearn.preprocessing import OrdinalEncoder, StandardScaler, OneHotEncoder\n",
        "from sklearn.cluster import KMeans\n",
        "\n",
        "from sklearn.ensemble import RandomForestClassifier\n",
        "from boruta import BorutaPy\n",
        "\n",
        "import matplotlib.pyplot as plt\n",
        "import seaborn as sns"
      ]
    },
    {
      "cell_type": "code",
      "execution_count": 4,
      "id": "f6cf7bb7",
      "metadata": {
        "id": "f6cf7bb7"
      },
      "outputs": [],
      "source": [
        "features = ['ratio_open_30','prob_mix_ro_30t60','ratio_open_30t60','engaged_prob','engaged_index','avg_key_del_open','ratio_open_60','var_deliveries_last_60',\n",
        "            'std_deliveries_last_90','prob_mix_ro_60t90','ratio_open_60t90','var_key_del_open','avg_deliveries_last_60','ratio_deliveries_last_60',\n",
        "            'ratio_keydeliveries_last_60','ratio_deliveries_last_90','avg_deliveries_last_90','ratio_keydeliveries_last_90','avg_deliveries_last_180',\n",
        "            'ratio_deliveries_last_180','std_key_del_close','ratio_keydeliveries_last_180','datediff_create_trans','datediff_month','ratio_open_90',\n",
        "            'total_opens_last_90t180','app_ratio_open_90t180','app_total_opens_last_180','ratio_open_90t180','total_opens_last_180','app_total_opens_by_device',\n",
        "            'age_1stperson_hushld','app_total_opens_last_90','avg_opens_by_device','std_opens_by_device','app_ratio_open_60t90','app_ratio_open_90',\n",
        "            'app_ratio_open_60','app_total_opens_last_60','app_avg_opens_last_90','app_avg_opens_last_60','app_std_opens_last_60','app_ratio_open_30t60',\n",
        "            'app_std_opens_last_30','app_avg_opens_last_30','app_ratio_open_30','app_total_opens_last_30','no_of_adults_hushld','home_lot_square_footage',\n",
        "            'home_square_footage','vehicle_year_1st','home_loan_amount','gender']\n",
        "\n",
        "#'auto_loans_index','bankcard_utilizn_index','zipcodecity'"
      ]
    },
    {
      "cell_type": "code",
      "execution_count": 5,
      "id": "db2f71d2",
      "metadata": {
        "id": "db2f71d2"
      },
      "outputs": [],
      "source": [
        "def get_dummies(data,field,prefix):\n",
        "    data[field] = data[field].fillna('na')\n",
        "    dms = pd.get_dummies(data.loc[:,field], prefix=prefix)\n",
        "    return pd.concat([data,dms],axis=1)"
      ]
    },
    {
      "cell_type": "code",
      "execution_count": 6,
      "id": "8dbb44b0",
      "metadata": {
        "id": "8dbb44b0"
      },
      "outputs": [],
      "source": [
        "def toLog10(df,feature):    \n",
        "    df[feature].fillna(0, inplace=True)\n",
        "    return np.log10(df[feature]+1)"
      ]
    },
    {
      "cell_type": "code",
      "source": [
        "from google.colab import drive\n",
        "drive.mount('/content/drive')"
      ],
      "metadata": {
        "colab": {
          "base_uri": "https://localhost:8080/"
        },
        "id": "lC3NguL5bhl0",
        "outputId": "05421d57-4cfa-4bb2-dbc4-ee3568a0365f"
      },
      "id": "lC3NguL5bhl0",
      "execution_count": 7,
      "outputs": [
        {
          "output_type": "stream",
          "name": "stdout",
          "text": [
            "Mounted at /content/drive\n"
          ]
        }
      ]
    },
    {
      "cell_type": "code",
      "execution_count": 8,
      "id": "1e3e944c",
      "metadata": {
        "id": "1e3e944c"
      },
      "outputs": [],
      "source": [
        "data = pd.read_csv('drive/MyDrive/Elmhurst_Data/mydata.csv',low_memory=False)"
      ]
    },
    {
      "cell_type": "code",
      "execution_count": 9,
      "id": "0372b289",
      "metadata": {
        "id": "0372b289"
      },
      "outputs": [],
      "source": [
        "target = data[['target']]\n",
        "target.columns=['target']"
      ]
    },
    {
      "cell_type": "code",
      "execution_count": 10,
      "id": "6bd6f3a8",
      "metadata": {
        "id": "6bd6f3a8"
      },
      "outputs": [],
      "source": [
        "data = data.replace(np.nan, 0)\n",
        "data = data.replace('unknown', 0)\n",
        "data.home_loan_amount = data.home_loan_amount * -1"
      ]
    },
    {
      "cell_type": "code",
      "execution_count": 11,
      "id": "5a4fb272",
      "metadata": {
        "id": "5a4fb272"
      },
      "outputs": [],
      "source": [
        "#Create dummies for the gender feature\n",
        "data = get_dummies(data,'gender','gnd')"
      ]
    },
    {
      "cell_type": "code",
      "execution_count": 12,
      "id": "b03e2f73",
      "metadata": {
        "id": "b03e2f73"
      },
      "outputs": [],
      "source": [
        "#Binnarize and create dummies for the vehicle year feature\n",
        "data['vehicle_year_bin'] = data['vehicle_year_1st'].apply(lambda x : 'new_model' if x >= 2019 else ('med_model' if (x < 2019 and x >= 2015) else 'old_model'))\n",
        "data = get_dummies(data,'vehicle_year_bin','vyc')"
      ]
    },
    {
      "cell_type": "code",
      "execution_count": 14,
      "id": "286f7021",
      "metadata": {
        "colab": {
          "base_uri": "https://localhost:8080/"
        },
        "id": "286f7021",
        "outputId": "f77f9e7a-2670-4070-d277-6088be0937b5"
      },
      "outputs": [
        {
          "output_type": "stream",
          "name": "stdout",
          "text": [
            "(249575, 104)\n"
          ]
        }
      ],
      "source": [
        "drop_features = ['gender','vehicle_year_1st','vehicle_year_bin','target'] #,'auto_loans_index','bankcard_utilizn_index','zipcodecity']\n",
        "data.drop(drop_features,inplace=True,axis=1)\n",
        "print(data.shape)"
      ]
    },
    {
      "cell_type": "code",
      "execution_count": 15,
      "id": "4aef1094",
      "metadata": {
        "id": "4aef1094"
      },
      "outputs": [],
      "source": [
        "# Split data 80% for training 20% for test\n",
        "\n",
        "X_train, X_test, y_train, y_test = train_test_split(data, target, test_size=0.2, random_state=seed)\n",
        "saved_cols = X_train.columns\n",
        "y_train = y_train.values.ravel()"
      ]
    },
    {
      "cell_type": "code",
      "execution_count": 16,
      "id": "aa9f2563",
      "metadata": {
        "id": "aa9f2563"
      },
      "outputs": [],
      "source": [
        "# Execute rendom forrest classifier\n",
        "\n",
        "rf = RandomForestClassifier(n_estimators = 500, random_state=seed)\n",
        "\n",
        "result = rf.fit(X_train, y_train)"
      ]
    },
    {
      "cell_type": "code",
      "execution_count": 17,
      "id": "550d7fd8",
      "metadata": {
        "id": "550d7fd8"
      },
      "outputs": [],
      "source": [
        "# let's initialize Boruta\n",
        "feat_selector = BorutaPy(\n",
        "    verbose=2,\n",
        "    estimator=rf,\n",
        "    n_estimators='auto',\n",
        "    max_iter=20  # number of iterations to perform\n",
        ")"
      ]
    },
    {
      "cell_type": "code",
      "execution_count": 18,
      "id": "189a0443",
      "metadata": {
        "scrolled": true,
        "colab": {
          "base_uri": "https://localhost:8080/"
        },
        "id": "189a0443",
        "outputId": "b3ab485b-14be-4c9d-bf6e-300733d91f7a"
      },
      "outputs": [
        {
          "output_type": "stream",
          "name": "stdout",
          "text": [
            "Iteration: \t1 / 20\n",
            "Confirmed: \t0\n",
            "Tentative: \t104\n",
            "Rejected: \t0\n",
            "Iteration: \t2 / 20\n",
            "Confirmed: \t0\n",
            "Tentative: \t104\n",
            "Rejected: \t0\n",
            "Iteration: \t3 / 20\n",
            "Confirmed: \t0\n",
            "Tentative: \t104\n",
            "Rejected: \t0\n",
            "Iteration: \t4 / 20\n",
            "Confirmed: \t0\n",
            "Tentative: \t104\n",
            "Rejected: \t0\n",
            "Iteration: \t5 / 20\n",
            "Confirmed: \t0\n",
            "Tentative: \t104\n",
            "Rejected: \t0\n",
            "Iteration: \t6 / 20\n",
            "Confirmed: \t0\n",
            "Tentative: \t104\n",
            "Rejected: \t0\n",
            "Iteration: \t7 / 20\n",
            "Confirmed: \t0\n",
            "Tentative: \t104\n",
            "Rejected: \t0\n",
            "Iteration: \t8 / 20\n",
            "Confirmed: \t14\n",
            "Tentative: \t11\n",
            "Rejected: \t79\n",
            "Iteration: \t9 / 20\n",
            "Confirmed: \t14\n",
            "Tentative: \t11\n",
            "Rejected: \t79\n",
            "Iteration: \t10 / 20\n",
            "Confirmed: \t14\n",
            "Tentative: \t11\n",
            "Rejected: \t79\n",
            "Iteration: \t11 / 20\n",
            "Confirmed: \t14\n",
            "Tentative: \t11\n",
            "Rejected: \t79\n",
            "Iteration: \t12 / 20\n",
            "Confirmed: \t14\n",
            "Tentative: \t8\n",
            "Rejected: \t82\n",
            "Iteration: \t13 / 20\n",
            "Confirmed: \t14\n",
            "Tentative: \t8\n",
            "Rejected: \t82\n",
            "Iteration: \t14 / 20\n",
            "Confirmed: \t14\n",
            "Tentative: \t8\n",
            "Rejected: \t82\n",
            "Iteration: \t15 / 20\n",
            "Confirmed: \t14\n",
            "Tentative: \t8\n",
            "Rejected: \t82\n",
            "Iteration: \t16 / 20\n",
            "Confirmed: \t14\n",
            "Tentative: \t7\n",
            "Rejected: \t83\n",
            "Iteration: \t17 / 20\n",
            "Confirmed: \t14\n",
            "Tentative: \t7\n",
            "Rejected: \t83\n",
            "Iteration: \t18 / 20\n",
            "Confirmed: \t14\n",
            "Tentative: \t7\n",
            "Rejected: \t83\n",
            "Iteration: \t19 / 20\n",
            "Confirmed: \t14\n",
            "Tentative: \t7\n",
            "Rejected: \t83\n",
            "\n",
            "\n",
            "BorutaPy finished running.\n",
            "\n",
            "Iteration: \t20 / 20\n",
            "Confirmed: \t14\n",
            "Tentative: \t0\n",
            "Rejected: \t83\n",
            "\n",
            "------Support and Ranking for each feature------\n",
            "Passes the test:  usercreatedate  - Ranking:  1\n",
            "Passes the test:  user_creationDate  - Ranking:  1\n",
            "Doesn't pass the test:  age_1stperson_hushld  - Ranking:  16\n",
            "Doesn't pass the test:  android_device_count  - Ranking:  48\n",
            "Doesn't pass the test:  consumer_electronics  - Ranking:  77\n",
            "Doesn't pass the test:  cooking_food_grp  - Ranking:  76\n",
            "Doesn't pass the test:  electrnics_cmputrs_grp  - Ranking:  82\n",
            "Doesn't pass the test:  exrcse_hlth_grp  - Ranking:  72\n",
            "Doesn't pass the test:  gardening  - Ranking:  72\n",
            "Doesn't pass the test:  home_bedroom_count  - Ranking:  64\n",
            "Doesn't pass the test:  home_equity_lendable  - Ranking:  51\n",
            "Doesn't pass the test:  home_furnishgs_accss_gnrl  - Ranking:  77\n",
            "Doesn't pass the test:  home_furnishings  - Ranking:  80\n",
            "Doesn't pass the test:  home_furnishings_gnrl  - Ranking:  81\n",
            "Doesn't pass the test:  home_imprmnt_grp  - Ranking:  84\n",
            "Doesn't pass the test:  home_imprvt_diy  - Ranking:  72\n",
            "Doesn't pass the test:  home_length_of_residence  - Ranking:  52\n",
            "Doesn't pass the test:  home_loan_amount  - Ranking:  47\n",
            "Doesn't pass the test:  home_lot_square_footage  - Ranking:  41\n",
            "Doesn't pass the test:  home_room_count  - Ranking:  61\n",
            "Doesn't pass the test:  home_square_footage  - Ranking:  40\n",
            "Doesn't pass the test:  household_size  - Ranking:  56\n",
            "Doesn't pass the test:  liftstyle_category  - Ranking:  88\n",
            "Doesn't pass the test:  no_of_adults_hushld  - Ranking:  57\n",
            "Doesn't pass the test:  no_of_chldrns  - Ranking:  66\n",
            "Doesn't pass the test:  num_deliveries  - Ranking:  14\n",
            "Doesn't pass the test:  other_pet_owner  - Ranking:  74\n",
            "Doesn't pass the test:  outdoors_grouping  - Ranking:  82\n",
            "Doesn't pass the test:  parenting  - Ranking:  87\n",
            "Passes the test:  smart_garage_camera_count  - Ranking:  1\n",
            "Doesn't pass the test:  sports_grouping  - Ranking:  79\n",
            "Doesn't pass the test:  vehicle_number  - Ranking:  68\n",
            "Doesn't pass the test:  wirlss_product_buyer  - Ranking:  75\n",
            "Doesn't pass the test:  datediff_month  - Ranking:  3\n",
            "Passes the test:  engaged_index  - Ranking:  1\n",
            "Doesn't pass the test:  transactioncount  - Ranking:  4\n",
            "Doesn't pass the test:  numnumopenrequest  - Ranking:  8\n",
            "Passes the test:  numopenresponse  - Ranking:  1\n",
            "Doesn't pass the test:  numcloserequest  - Ranking:  10\n",
            "Doesn't pass the test:  numcloseresponse  - Ranking:  2\n",
            "Passes the test:  datediff_create_trans  - Ranking:  1\n",
            "Passes the test:  engaged_prob  - Ranking:  1\n",
            "Doesn't pass the test:  total_opens_last_180  - Ranking:  6\n",
            "Passes the test:  total_opens_last_90t180  - Ranking:  1\n",
            "Doesn't pass the test:  total_opens_by_device  - Ranking:  15\n",
            "Doesn't pass the test:  avg_opens_by_device  - Ranking:  12\n",
            "Doesn't pass the test:  std_opens_by_device  - Ranking:  8\n",
            "Doesn't pass the test:  app_total_opens_last_30  - Ranking:  46\n",
            "Doesn't pass the test:  app_avg_opens_last_30  - Ranking:  37\n",
            "Doesn't pass the test:  app_std_opens_last_30  - Ranking:  36\n",
            "Doesn't pass the test:  app_total_opens_last_60  - Ranking:  39\n",
            "Doesn't pass the test:  app_avg_opens_last_60  - Ranking:  31\n",
            "Doesn't pass the test:  app_std_opens_last_60  - Ranking:  30\n",
            "Doesn't pass the test:  app_total_opens_last_90  - Ranking:  34\n",
            "Doesn't pass the test:  app_avg_opens_last_90  - Ranking:  25\n",
            "Doesn't pass the test:  app_total_opens_last_180  - Ranking:  24\n",
            "Doesn't pass the test:  app_total_opens_by_device  - Ranking:  18\n",
            "Passes the test:  ratio_open_30  - Ranking:  1\n",
            "Passes the test:  ratio_open_60  - Ranking:  1\n",
            "Doesn't pass the test:  ratio_open_90  - Ranking:  7\n",
            "Doesn't pass the test:  ratio_open_180  - Ranking:  11\n",
            "Passes the test:  ratio_open_30t60  - Ranking:  1\n",
            "Passes the test:  ratio_open_60t90  - Ranking:  1\n",
            "Doesn't pass the test:  ratio_open_90t180  - Ranking:  4\n",
            "Doesn't pass the test:  app_ratio_open_30t60  - Ranking:  33\n",
            "Doesn't pass the test:  app_ratio_open_60t90  - Ranking:  29\n",
            "Doesn't pass the test:  app_ratio_open_90t180  - Ranking:  19\n",
            "Doesn't pass the test:  app_ratio_open_30  - Ranking:  35\n",
            "Doesn't pass the test:  app_ratio_open_60  - Ranking:  28\n",
            "Doesn't pass the test:  app_ratio_open_90  - Ranking:  22\n",
            "Doesn't pass the test:  total_deliveries_last_30  - Ranking:  69\n",
            "Doesn't pass the test:  avg_deliveries_last_30  - Ranking:  63\n",
            "Doesn't pass the test:  var_deliveries_last_30  - Ranking:  67\n",
            "Doesn't pass the test:  total_deliveries_last_60  - Ranking:  60\n",
            "Doesn't pass the test:  avg_deliveries_last_60  - Ranking:  58\n",
            "Doesn't pass the test:  var_deliveries_last_60  - Ranking:  45\n",
            "Doesn't pass the test:  total_deliveries_last_90  - Ranking:  49\n",
            "Doesn't pass the test:  avg_deliveries_last_90  - Ranking:  49\n",
            "Doesn't pass the test:  std_deliveries_last_90  - Ranking:  37\n",
            "Doesn't pass the test:  total_deliveries_last_180  - Ranking:  31\n",
            "Doesn't pass the test:  avg_deliveries_last_180  - Ranking:  42\n",
            "Doesn't pass the test:  std_deliveries_last_180  - Ranking:  20\n",
            "Doesn't pass the test:  total_key_del_open  - Ranking:  17\n",
            "Doesn't pass the test:  avg_key_del_open  - Ranking:  22\n",
            "Doesn't pass the test:  var_key_del_open  - Ranking:  21\n",
            "Doesn't pass the test:  total_key_del_close  - Ranking:  12\n",
            "Doesn't pass the test:  avg_key_del_close  - Ranking:  26\n",
            "Doesn't pass the test:  std_key_del_close  - Ranking:  27\n",
            "Doesn't pass the test:  ratio_deliveries_last_30  - Ranking:  62\n",
            "Doesn't pass the test:  ratio_deliveries_last_60  - Ranking:  59\n",
            "Doesn't pass the test:  ratio_deliveries_last_90  - Ranking:  54\n",
            "Doesn't pass the test:  ratio_deliveries_last_180  - Ranking:  43\n",
            "Doesn't pass the test:  ratio_keydeliveries_last_30  - Ranking:  65\n",
            "Doesn't pass the test:  ratio_keydeliveries_last_60  - Ranking:  54\n",
            "Doesn't pass the test:  ratio_keydeliveries_last_90  - Ranking:  54\n",
            "Doesn't pass the test:  ratio_keydeliveries_last_180  - Ranking:  43\n",
            "Passes the test:  prob_mix_ro_60t90  - Ranking:  1\n",
            "Passes the test:  prob_mix_ro_30t60  - Ranking:  1\n",
            "Doesn't pass the test:  gnd_0  - Ranking:  85\n",
            "Doesn't pass the test:  gnd_F  - Ranking:  86\n",
            "Doesn't pass the test:  gnd_M  - Ranking:  70\n",
            "Doesn't pass the test:  vyc_med_model  - Ranking:  90\n",
            "Doesn't pass the test:  vyc_new_model  - Ranking:  91\n",
            "Doesn't pass the test:  vyc_old_model  - Ranking:  89\n"
          ]
        }
      ],
      "source": [
        "# train Boruta\n",
        "# N.B.: X and y must be numpy arrays\n",
        "feat_selector.fit(np.array(X_train), np.array(y_train))\n",
        "\n",
        "# print support and ranking for each feature\n",
        "print(\"\\n------Support and Ranking for each feature------\")\n",
        "for i in range(len(feat_selector.support_)):\n",
        "    if feat_selector.support_[i]:\n",
        "        print(\"Passes the test: \", X_train.columns[i],\n",
        "              \" - Ranking: \", feat_selector.ranking_[i])\n",
        "    else:\n",
        "        print(\"Doesn't pass the test: \",\n",
        "              X_train.columns[i], \" - Ranking: \", feat_selector.ranking_[i])"
      ]
    }
  ],
  "metadata": {
    "kernelspec": {
      "display_name": "Python 3 (ipykernel)",
      "language": "python",
      "name": "python3"
    },
    "language_info": {
      "codemirror_mode": {
        "name": "ipython",
        "version": 3
      },
      "file_extension": ".py",
      "mimetype": "text/x-python",
      "name": "python",
      "nbconvert_exporter": "python",
      "pygments_lexer": "ipython3",
      "version": "3.9.7"
    },
    "colab": {
      "provenance": [],
      "include_colab_link": true
    }
  },
  "nbformat": 4,
  "nbformat_minor": 5
}