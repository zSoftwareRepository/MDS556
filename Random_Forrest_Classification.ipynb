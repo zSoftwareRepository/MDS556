{
  "cells": [
    {
      "cell_type": "markdown",
      "metadata": {
        "id": "view-in-github",
        "colab_type": "text"
      },
      "source": [
        "<a href=\"https://colab.research.google.com/github/zSoftwareRepository/MDS556/blob/main/Random_Forrest_Classification.ipynb\" target=\"_parent\"><img src=\"https://colab.research.google.com/assets/colab-badge.svg\" alt=\"Open In Colab\"/></a>"
      ]
    },
    {
      "cell_type": "code",
      "execution_count": 2,
      "id": "4726ac90",
      "metadata": {
        "id": "4726ac90"
      },
      "outputs": [],
      "source": [
        "# importing libraries\n",
        "\n",
        "import warnings\n",
        "#warnings.filterwarnings(\"ignore\")\n",
        "\n",
        "seed = 23\n",
        "\n",
        "import numpy as np\n",
        "np.random.seed(seed)\n",
        "\n",
        "import pandas as pd\n",
        "\n",
        "from sklearn.metrics import classification_report, confusion_matrix, accuracy_score, f1_score\n",
        "from sklearn.model_selection import train_test_split\n",
        "from sklearn.preprocessing import OrdinalEncoder, StandardScaler, OneHotEncoder\n",
        "from sklearn.cluster import KMeans\n",
        "\n",
        "from sklearn.ensemble import RandomForestClassifier\n",
        "\n",
        "import matplotlib.pyplot as plt\n",
        "import seaborn as sns"
      ]
    },
    {
      "cell_type": "code",
      "execution_count": 3,
      "id": "f08cec67",
      "metadata": {
        "id": "f08cec67"
      },
      "outputs": [],
      "source": [
        "features = ['usercreatedate','user_creationDate','smart_garage_camera_count','datediff_month','engaged_index',\n",
        "            'numopenresponse','datediff_create_trans','engaged_prob','total_opens_last_90t180','ratio_open_30',\n",
        "            'ratio_open_60','ratio_open_30t60','ratio_open_60t90','prob_mix_ro_60t90','prob_mix_ro_30t60']"
      ]
    },
    {
      "cell_type": "code",
      "execution_count": 4,
      "id": "db2f71d2",
      "metadata": {
        "id": "db2f71d2"
      },
      "outputs": [],
      "source": [
        "def get_dummies(data,field,prefix):\n",
        "    data[field] = data[field].fillna('na')\n",
        "    dms = pd.get_dummies(data.loc[:,field], prefix=prefix)\n",
        "    return pd.concat([data,dms],axis=1)"
      ]
    },
    {
      "cell_type": "code",
      "execution_count": 5,
      "id": "8dbb44b0",
      "metadata": {
        "id": "8dbb44b0"
      },
      "outputs": [],
      "source": [
        "def toLog10(df,feature):    \n",
        "    df[feature].fillna(0, inplace=True)\n",
        "    return np.log10(df[feature]+1)"
      ]
    },
    {
      "cell_type": "code",
      "execution_count": 7,
      "id": "1e3e944c",
      "metadata": {
        "colab": {
          "base_uri": "https://localhost:8080/"
        },
        "id": "1e3e944c",
        "outputId": "6fa0092c-b69a-46ea-ed54-5d31794bde38"
      },
      "outputs": [
        {
          "output_type": "stream",
          "name": "stdout",
          "text": [
            "Mounted at /content/drive\n"
          ]
        }
      ],
      "source": [
        "from google.colab import drive\n",
        "drive.mount('/content/drive')\n",
        "\n",
        "data = pd.read_csv('drive/MyDrive/Elmhurst_Data/mydata.csv',low_memory=False)"
      ]
    },
    {
      "cell_type": "code",
      "execution_count": 8,
      "id": "0372b289",
      "metadata": {
        "id": "0372b289"
      },
      "outputs": [],
      "source": [
        "target = data[['target']]\n",
        "target.columns=['target']\n",
        "data = data[features]"
      ]
    },
    {
      "cell_type": "code",
      "execution_count": 9,
      "id": "6bd6f3a8",
      "metadata": {
        "id": "6bd6f3a8"
      },
      "outputs": [],
      "source": [
        "data = data.replace(np.nan, 0)\n",
        "#data.home_loan_amount = data.home_loan_amount * -1"
      ]
    },
    {
      "cell_type": "code",
      "execution_count": 10,
      "id": "4aef1094",
      "metadata": {
        "id": "4aef1094"
      },
      "outputs": [],
      "source": [
        "# Split data 80% for training 20% for test\n",
        "\n",
        "X_train, X_test, y_train, y_test = train_test_split(data, target, test_size=0.2, random_state=seed)\n",
        "saved_cols = X_train.columns\n",
        "y_train = y_train.values.ravel()"
      ]
    },
    {
      "cell_type": "code",
      "execution_count": 11,
      "id": "aa9f2563",
      "metadata": {
        "id": "aa9f2563"
      },
      "outputs": [],
      "source": [
        "# Execute rendom forrest classifier\n",
        "\n",
        "rf = RandomForestClassifier(min_samples_leaf=10,\n",
        "                            n_estimators=500,\n",
        "                            bootstrap=True,\n",
        "                            oob_score=True,\n",
        "                            n_jobs=-1,\n",
        "                            random_state=seed)\n",
        "\n",
        "result = rf.fit(X_train, y_train)"
      ]
    },
    {
      "cell_type": "code",
      "execution_count": 12,
      "id": "010c5090",
      "metadata": {
        "id": "010c5090"
      },
      "outputs": [],
      "source": [
        "# make predictions for test data and evaluate\n",
        "\n",
        "predictions = rf.predict_proba(X_test)[:,1]\n",
        "#predictions = predictions[:,1]\n",
        "preds_4errors = predictions.copy()\n",
        "predictions = np.round(predictions,0)\n",
        "accuracy = accuracy_score(y_test.target, predictions)"
      ]
    },
    {
      "cell_type": "code",
      "execution_count": 13,
      "id": "567a3eb6",
      "metadata": {
        "colab": {
          "base_uri": "https://localhost:8080/"
        },
        "id": "567a3eb6",
        "outputId": "4d8f94ed-169c-4929-ff74-cc6a54afff8e"
      },
      "outputs": [
        {
          "output_type": "stream",
          "name": "stdout",
          "text": [
            "Accuracy: 97.33%\n",
            "F1 Score: 86.87%\n"
          ]
        }
      ],
      "source": [
        "print(\"Accuracy: %.2f%%\" % (accuracy * 100.0))\n",
        "print(\"F1 Score: %.2f%%\" % (f1_score(y_test.target, predictions) * 100.0))"
      ]
    },
    {
      "cell_type": "code",
      "execution_count": 14,
      "id": "bbbfd1f4",
      "metadata": {
        "colab": {
          "base_uri": "https://localhost:8080/"
        },
        "id": "bbbfd1f4",
        "outputId": "7b877235-cfbe-4381-8c3b-97aa0947fe52"
      },
      "outputs": [
        {
          "output_type": "stream",
          "name": "stdout",
          "text": [
            "44168 1214 120 4413\n"
          ]
        }
      ],
      "source": [
        "# confusion m,atrix\n",
        "tn, fp, fn, tp = confusion_matrix(y_test.target, predictions).ravel()\n",
        "print(tn, fp, fn, tp)"
      ]
    },
    {
      "cell_type": "code",
      "execution_count": 15,
      "id": "f71ef0a8",
      "metadata": {
        "colab": {
          "base_uri": "https://localhost:8080/"
        },
        "id": "f71ef0a8",
        "outputId": "43b5dc0f-7867-407e-febc-c51bbcb409ec"
      },
      "outputs": [
        {
          "output_type": "stream",
          "name": "stdout",
          "text": [
            "True Positive Rate: 97.35%\n",
            "True Negative Rate: 97.32%\n"
          ]
        }
      ],
      "source": [
        "sensitivity = tp/(tp+fn)\n",
        "print(\"True Positive Rate: %.2f%%\" % (sensitivity * 100.0))\n",
        "specificity = tn/(tn+fp)\n",
        "print(\"True Negative Rate: %.2f%%\" % (specificity * 100.0))"
      ]
    },
    {
      "cell_type": "code",
      "execution_count": 16,
      "id": "a1ee579b",
      "metadata": {
        "scrolled": false,
        "colab": {
          "base_uri": "https://localhost:8080/",
          "height": 382
        },
        "id": "a1ee579b",
        "outputId": "1d98ccdd-4a35-4fa2-916b-2ca439466cfe"
      },
      "outputs": [
        {
          "output_type": "display_data",
          "data": {
            "text/plain": [
              "<Figure size 432x432 with 1 Axes>"
            ],
            "image/png": "[encoded data removed]"
          },
          "metadata": {
            "needs_background": "light"
          }
        }
      ],
      "source": [
        "cm = confusion_matrix(y_test, predictions)\n",
        "\n",
        "plt.rc(\"figure\", figsize=(16, 8))\n",
        "plt.rc(\"font\", size=18)\n",
        "\n",
        "fig, ax = plt.subplots(figsize=(6, 6))\n",
        "ax.imshow(cm)\n",
        "ax.grid(False)\n",
        "ax.xaxis.set(ticks=(0, 1), ticklabels=('Predicted 0s', 'Predicted 1s'))\n",
        "ax.yaxis.set(ticks=(0, 1), ticklabels=('Actual 0s', 'Actual 1s'))\n",
        "ax.set_ylim(1.5, -0.5)\n",
        "for i in range(2):\n",
        "    for j in range(2):\n",
        "        ax.text(j, i, cm[i, j], ha='center', va='center', color='red')\n",
        "plt.show()"
      ]
    },
    {
      "cell_type": "code",
      "execution_count": 17,
      "id": "9a106039",
      "metadata": {
        "id": "9a106039"
      },
      "outputs": [],
      "source": [
        "residuals = pd.DataFrame({'actual': y_test.target.values.flatten(), 'predicted': preds_4errors, 'residual': (y_test.target.values - preds_4errors)})"
      ]
    },
    {
      "cell_type": "code",
      "execution_count": 18,
      "id": "56f03236",
      "metadata": {
        "id": "56f03236"
      },
      "outputs": [],
      "source": [
        "plt.rc(\"figure\", figsize=(8, 4))\n",
        "plt.rc(\"font\", size=8)"
      ]
    },
    {
      "cell_type": "code",
      "execution_count": 19,
      "id": "9c9a6968",
      "metadata": {
        "colab": {
          "base_uri": "https://localhost:8080/",
          "height": 295
        },
        "id": "9c9a6968",
        "outputId": "a20f3e48-cf51-446f-f966-06d4be1fd3c4"
      },
      "outputs": [
        {
          "output_type": "display_data",
          "data": {
            "text/plain": [
              "<Figure size 576x288 with 1 Axes>"
            ],
            "image/png": "[encoded data removed]"
          },
          "metadata": {
            "needs_background": "light"
          }
        }
      ],
      "source": [
        "plt.scatter(residuals.predicted,residuals.residual)\n",
        "plt.xlabel('Predicted')\n",
        "plt.ylabel('Residual')\n",
        "plt.title('Residuals vs Predicted Values', size=15)\n",
        "plt.axhline(y=0, color=\"red\", linestyle=\"--\")\n",
        "plt.show()"
      ]
    },
    {
      "cell_type": "code",
      "execution_count": 23,
      "id": "ac13995e",
      "metadata": {
        "colab": {
          "base_uri": "https://localhost:8080/",
          "height": 282
        },
        "id": "ac13995e",
        "outputId": "67a56027-4370-4ade-bd55-7d5ae04496a9"
      },
      "outputs": [
        {
          "output_type": "display_data",
          "data": {
            "text/plain": [
              "<Figure size 576x288 with 1 Axes>"
            ],
            "image/png": "[encoded data removed]"
          },
          "metadata": {
            "needs_background": "light"
          }
        }
      ],
      "source": [
        "plt.title('Residuals Histogram', size=15)\n",
        "_ = plt.hist(residuals.residual, bins=10, color = 'green')\n",
        "plt.show()"
      ]
    },
    {
      "cell_type": "code",
      "execution_count": null,
      "id": "e1c0bc10",
      "metadata": {
        "id": "e1c0bc10",
        "outputId": "777a5454-94fc-4d35-978a-6487b6c100de"
      },
      "outputs": [
        {
          "data": {
            "text/html": [
              "<div>\n",
              "<style scoped>\n",
              "    .dataframe tbody tr th:only-of-type {\n",
              "        vertical-align: middle;\n",
              "    }\n",
              "\n",
              "    .dataframe tbody tr th {\n",
              "        vertical-align: top;\n",
              "    }\n",
              "\n",
              "    .dataframe thead th {\n",
              "        text-align: right;\n",
              "    }\n",
              "</style>\n",
              "<table border=\"1\" class=\"dataframe\">\n",
              "  <thead>\n",
              "    <tr style=\"text-align: right;\">\n",
              "      <th></th>\n",
              "      <th>actual</th>\n",
              "      <th>predicted</th>\n",
              "      <th>residual</th>\n",
              "    </tr>\n",
              "  </thead>\n",
              "  <tbody>\n",
              "    <tr>\n",
              "      <th>0</th>\n",
              "      <td>1</td>\n",
              "      <td>0.639782</td>\n",
              "      <td>0.360218</td>\n",
              "    </tr>\n",
              "    <tr>\n",
              "      <th>1</th>\n",
              "      <td>0</td>\n",
              "      <td>0.000216</td>\n",
              "      <td>-0.000216</td>\n",
              "    </tr>\n",
              "    <tr>\n",
              "      <th>2</th>\n",
              "      <td>0</td>\n",
              "      <td>0.001836</td>\n",
              "      <td>-0.001836</td>\n",
              "    </tr>\n",
              "    <tr>\n",
              "      <th>3</th>\n",
              "      <td>0</td>\n",
              "      <td>0.001427</td>\n",
              "      <td>-0.001427</td>\n",
              "    </tr>\n",
              "    <tr>\n",
              "      <th>4</th>\n",
              "      <td>0</td>\n",
              "      <td>0.001769</td>\n",
              "      <td>-0.001769</td>\n",
              "    </tr>\n",
              "    <tr>\n",
              "      <th>...</th>\n",
              "      <td>...</td>\n",
              "      <td>...</td>\n",
              "      <td>...</td>\n",
              "    </tr>\n",
              "    <tr>\n",
              "      <th>49910</th>\n",
              "      <td>0</td>\n",
              "      <td>0.000571</td>\n",
              "      <td>-0.000571</td>\n",
              "    </tr>\n",
              "    <tr>\n",
              "      <th>49911</th>\n",
              "      <td>0</td>\n",
              "      <td>0.000890</td>\n",
              "      <td>-0.000890</td>\n",
              "    </tr>\n",
              "    <tr>\n",
              "      <th>49912</th>\n",
              "      <td>0</td>\n",
              "      <td>0.000576</td>\n",
              "      <td>-0.000576</td>\n",
              "    </tr>\n",
              "    <tr>\n",
              "      <th>49913</th>\n",
              "      <td>0</td>\n",
              "      <td>0.000111</td>\n",
              "      <td>-0.000111</td>\n",
              "    </tr>\n",
              "    <tr>\n",
              "      <th>49914</th>\n",
              "      <td>0</td>\n",
              "      <td>0.000000</td>\n",
              "      <td>0.000000</td>\n",
              "    </tr>\n",
              "  </tbody>\n",
              "</table>\n",
              "<p>49915 rows × 3 columns</p>\n",
              "</div>"
            ],
            "text/plain": [
              "       actual  predicted  residual\n",
              "0           1   0.639782  0.360218\n",
              "1           0   0.000216 -0.000216\n",
              "2           0   0.001836 -0.001836\n",
              "3           0   0.001427 -0.001427\n",
              "4           0   0.001769 -0.001769\n",
              "...       ...        ...       ...\n",
              "49910       0   0.000571 -0.000571\n",
              "49911       0   0.000890 -0.000890\n",
              "49912       0   0.000576 -0.000576\n",
              "49913       0   0.000111 -0.000111\n",
              "49914       0   0.000000  0.000000\n",
              "\n",
              "[49915 rows x 3 columns]"
            ]
          },
          "execution_count": 30,
          "metadata": {},
          "output_type": "execute_result"
        }
      ],
      "source": [
        "residuals"
      ]
    },
    {
      "cell_type": "code",
      "execution_count": null,
      "id": "a87ecbf2",
      "metadata": {
        "id": "a87ecbf2"
      },
      "outputs": [],
      "source": [
        "data[features]"
      ]
    },
    {
      "cell_type": "code",
      "execution_count": null,
      "id": "6d8ac7c5",
      "metadata": {
        "id": "6d8ac7c5",
        "outputId": "704d50e5-7ee9-4302-daaa-fda6e02dce46"
      },
      "outputs": [
        {
          "data": {
            "text/html": [
              "<div>\n",
              "<style scoped>\n",
              "    .dataframe tbody tr th:only-of-type {\n",
              "        vertical-align: middle;\n",
              "    }\n",
              "\n",
              "    .dataframe tbody tr th {\n",
              "        vertical-align: top;\n",
              "    }\n",
              "\n",
              "    .dataframe thead th {\n",
              "        text-align: right;\n",
              "    }\n",
              "</style>\n",
              "<table border=\"1\" class=\"dataframe\">\n",
              "  <thead>\n",
              "    <tr style=\"text-align: right;\">\n",
              "      <th></th>\n",
              "      <th>index</th>\n",
              "      <th>usercreatedate</th>\n",
              "      <th>user_creationDate</th>\n",
              "      <th>age_1stperson_hushld</th>\n",
              "      <th>android_device_count</th>\n",
              "      <th>consumer_electronics</th>\n",
              "      <th>cooking_food_grp</th>\n",
              "      <th>electrnics_cmputrs_grp</th>\n",
              "      <th>exrcse_hlth_grp</th>\n",
              "      <th>gardening</th>\n",
              "      <th>...</th>\n",
              "      <th>ratio_keydeliveries_last_60</th>\n",
              "      <th>ratio_keydeliveries_last_90</th>\n",
              "      <th>ratio_keydeliveries_last_180</th>\n",
              "      <th>gender</th>\n",
              "      <th>prob_mix_ro_60t90</th>\n",
              "      <th>prob_mix_ro_30t60</th>\n",
              "      <th>auto_loans_index</th>\n",
              "      <th>bankcard_utilizn_index</th>\n",
              "      <th>zipcodecity</th>\n",
              "      <th>target</th>\n",
              "    </tr>\n",
              "  </thead>\n",
              "  <tbody>\n",
              "    <tr>\n",
              "      <th>0</th>\n",
              "      <td>1</td>\n",
              "      <td>9.206435</td>\n",
              "      <td>9.206423</td>\n",
              "      <td>60</td>\n",
              "      <td>0</td>\n",
              "      <td>1</td>\n",
              "      <td>1</td>\n",
              "      <td>1</td>\n",
              "      <td>1</td>\n",
              "      <td>1</td>\n",
              "      <td>...</td>\n",
              "      <td>0.000000</td>\n",
              "      <td>0.000000</td>\n",
              "      <td>0.000000</td>\n",
              "      <td>M</td>\n",
              "      <td>0.941965</td>\n",
              "      <td>0.839253</td>\n",
              "      <td>58</td>\n",
              "      <td>43</td>\n",
              "      <td>28443hampsteadpender</td>\n",
              "      <td>0</td>\n",
              "    </tr>\n",
              "    <tr>\n",
              "      <th>1</th>\n",
              "      <td>2</td>\n",
              "      <td>9.214253</td>\n",
              "      <td>9.214238</td>\n",
              "      <td>0</td>\n",
              "      <td>0</td>\n",
              "      <td>0</td>\n",
              "      <td>0</td>\n",
              "      <td>0</td>\n",
              "      <td>0</td>\n",
              "      <td>0</td>\n",
              "      <td>...</td>\n",
              "      <td>0.000000</td>\n",
              "      <td>0.000000</td>\n",
              "      <td>0.000000</td>\n",
              "      <td>unknown</td>\n",
              "      <td>0.194057</td>\n",
              "      <td>0.106059</td>\n",
              "      <td>unknown</td>\n",
              "      <td>unknown</td>\n",
              "      <td>66047lawrencedouglas</td>\n",
              "      <td>0</td>\n",
              "    </tr>\n",
              "    <tr>\n",
              "      <th>2</th>\n",
              "      <td>3</td>\n",
              "      <td>9.195456</td>\n",
              "      <td>9.195438</td>\n",
              "      <td>0</td>\n",
              "      <td>0</td>\n",
              "      <td>0</td>\n",
              "      <td>0</td>\n",
              "      <td>0</td>\n",
              "      <td>0</td>\n",
              "      <td>0</td>\n",
              "      <td>...</td>\n",
              "      <td>0.000000</td>\n",
              "      <td>0.000000</td>\n",
              "      <td>0.000000</td>\n",
              "      <td>unknown</td>\n",
              "      <td>0.939713</td>\n",
              "      <td>0.889442</td>\n",
              "      <td>unknown</td>\n",
              "      <td>unknown</td>\n",
              "      <td>84096herrimansalt_lake</td>\n",
              "      <td>0</td>\n",
              "    </tr>\n",
              "    <tr>\n",
              "      <th>3</th>\n",
              "      <td>4</td>\n",
              "      <td>9.208629</td>\n",
              "      <td>9.208611</td>\n",
              "      <td>0</td>\n",
              "      <td>0</td>\n",
              "      <td>0</td>\n",
              "      <td>0</td>\n",
              "      <td>0</td>\n",
              "      <td>0</td>\n",
              "      <td>0</td>\n",
              "      <td>...</td>\n",
              "      <td>0.142857</td>\n",
              "      <td>0.142857</td>\n",
              "      <td>0.357143</td>\n",
              "      <td>unknown</td>\n",
              "      <td>0.061939</td>\n",
              "      <td>0.113539</td>\n",
              "      <td>unknown</td>\n",
              "      <td>unknown</td>\n",
              "      <td>48072berkleyoakland</td>\n",
              "      <td>0</td>\n",
              "    </tr>\n",
              "    <tr>\n",
              "      <th>4</th>\n",
              "      <td>5</td>\n",
              "      <td>9.190961</td>\n",
              "      <td>9.190941</td>\n",
              "      <td>0</td>\n",
              "      <td>2</td>\n",
              "      <td>0</td>\n",
              "      <td>0</td>\n",
              "      <td>0</td>\n",
              "      <td>0</td>\n",
              "      <td>0</td>\n",
              "      <td>...</td>\n",
              "      <td>0.000000</td>\n",
              "      <td>0.000000</td>\n",
              "      <td>0.000000</td>\n",
              "      <td>unknown</td>\n",
              "      <td>0.055210</td>\n",
              "      <td>0.088373</td>\n",
              "      <td>unknown</td>\n",
              "      <td>unknown</td>\n",
              "      <td>37221nashvilledavidson</td>\n",
              "      <td>0</td>\n",
              "    </tr>\n",
              "    <tr>\n",
              "      <th>...</th>\n",
              "      <td>...</td>\n",
              "      <td>...</td>\n",
              "      <td>...</td>\n",
              "      <td>...</td>\n",
              "      <td>...</td>\n",
              "      <td>...</td>\n",
              "      <td>...</td>\n",
              "      <td>...</td>\n",
              "      <td>...</td>\n",
              "      <td>...</td>\n",
              "      <td>...</td>\n",
              "      <td>...</td>\n",
              "      <td>...</td>\n",
              "      <td>...</td>\n",
              "      <td>...</td>\n",
              "      <td>...</td>\n",
              "      <td>...</td>\n",
              "      <td>...</td>\n",
              "      <td>...</td>\n",
              "      <td>...</td>\n",
              "      <td>...</td>\n",
              "    </tr>\n",
              "    <tr>\n",
              "      <th>249570</th>\n",
              "      <td>249571</td>\n",
              "      <td>9.214305</td>\n",
              "      <td>9.214283</td>\n",
              "      <td>0</td>\n",
              "      <td>0</td>\n",
              "      <td>0</td>\n",
              "      <td>0</td>\n",
              "      <td>0</td>\n",
              "      <td>0</td>\n",
              "      <td>0</td>\n",
              "      <td>...</td>\n",
              "      <td>0.000000</td>\n",
              "      <td>0.000000</td>\n",
              "      <td>0.000000</td>\n",
              "      <td>unknown</td>\n",
              "      <td>0.236868</td>\n",
              "      <td>0.252045</td>\n",
              "      <td>unknown</td>\n",
              "      <td>unknown</td>\n",
              "      <td>45013hamiltonbutler</td>\n",
              "      <td>0</td>\n",
              "    </tr>\n",
              "    <tr>\n",
              "      <th>249571</th>\n",
              "      <td>249572</td>\n",
              "      <td>9.215050</td>\n",
              "      <td>9.215039</td>\n",
              "      <td>0</td>\n",
              "      <td>0</td>\n",
              "      <td>0</td>\n",
              "      <td>0</td>\n",
              "      <td>0</td>\n",
              "      <td>0</td>\n",
              "      <td>0</td>\n",
              "      <td>...</td>\n",
              "      <td>0.000000</td>\n",
              "      <td>0.000000</td>\n",
              "      <td>0.000000</td>\n",
              "      <td>unknown</td>\n",
              "      <td>0.876821</td>\n",
              "      <td>0.768786</td>\n",
              "      <td>unknown</td>\n",
              "      <td>unknown</td>\n",
              "      <td>45011hamiltonbutler</td>\n",
              "      <td>0</td>\n",
              "    </tr>\n",
              "    <tr>\n",
              "      <th>249572</th>\n",
              "      <td>249573</td>\n",
              "      <td>9.195811</td>\n",
              "      <td>9.195797</td>\n",
              "      <td>56</td>\n",
              "      <td>1</td>\n",
              "      <td>1</td>\n",
              "      <td>1</td>\n",
              "      <td>1</td>\n",
              "      <td>1</td>\n",
              "      <td>1</td>\n",
              "      <td>...</td>\n",
              "      <td>0.000000</td>\n",
              "      <td>0.000000</td>\n",
              "      <td>0.000000</td>\n",
              "      <td>F</td>\n",
              "      <td>0.742817</td>\n",
              "      <td>0.659772</td>\n",
              "      <td>45</td>\n",
              "      <td>14</td>\n",
              "      <td>49321comstock_parkkent</td>\n",
              "      <td>0</td>\n",
              "    </tr>\n",
              "    <tr>\n",
              "      <th>249573</th>\n",
              "      <td>249574</td>\n",
              "      <td>9.214690</td>\n",
              "      <td>9.214673</td>\n",
              "      <td>0</td>\n",
              "      <td>1</td>\n",
              "      <td>0</td>\n",
              "      <td>0</td>\n",
              "      <td>0</td>\n",
              "      <td>0</td>\n",
              "      <td>0</td>\n",
              "      <td>...</td>\n",
              "      <td>0.171429</td>\n",
              "      <td>0.342857</td>\n",
              "      <td>0.600000</td>\n",
              "      <td>unknown</td>\n",
              "      <td>0.083841</td>\n",
              "      <td>0.195663</td>\n",
              "      <td>unknown</td>\n",
              "      <td>unknown</td>\n",
              "      <td>48867owossoshiawassee</td>\n",
              "      <td>1</td>\n",
              "    </tr>\n",
              "    <tr>\n",
              "      <th>249574</th>\n",
              "      <td>249575</td>\n",
              "      <td>9.210729</td>\n",
              "      <td>9.210718</td>\n",
              "      <td>40</td>\n",
              "      <td>0</td>\n",
              "      <td>1</td>\n",
              "      <td>1</td>\n",
              "      <td>1</td>\n",
              "      <td>1</td>\n",
              "      <td>1</td>\n",
              "      <td>...</td>\n",
              "      <td>0.000000</td>\n",
              "      <td>0.000000</td>\n",
              "      <td>0.000000</td>\n",
              "      <td>M</td>\n",
              "      <td>0.488720</td>\n",
              "      <td>0.547661</td>\n",
              "      <td>151</td>\n",
              "      <td>104</td>\n",
              "      <td>33186miamimiami-dade</td>\n",
              "      <td>0</td>\n",
              "    </tr>\n",
              "  </tbody>\n",
              "</table>\n",
              "<p>249575 rows × 105 columns</p>\n",
              "</div>"
            ],
            "text/plain": [
              "         index  usercreatedate  user_creationDate  age_1stperson_hushld  \\\n",
              "0            1        9.206435           9.206423                    60   \n",
              "1            2        9.214253           9.214238                     0   \n",
              "2            3        9.195456           9.195438                     0   \n",
              "3            4        9.208629           9.208611                     0   \n",
              "4            5        9.190961           9.190941                     0   \n",
              "...        ...             ...                ...                   ...   \n",
              "249570  249571        9.214305           9.214283                     0   \n",
              "249571  249572        9.215050           9.215039                     0   \n",
              "249572  249573        9.195811           9.195797                    56   \n",
              "249573  249574        9.214690           9.214673                     0   \n",
              "249574  249575        9.210729           9.210718                    40   \n",
              "\n",
              "        android_device_count  consumer_electronics  cooking_food_grp  \\\n",
              "0                          0                     1                 1   \n",
              "1                          0                     0                 0   \n",
              "2                          0                     0                 0   \n",
              "3                          0                     0                 0   \n",
              "4                          2                     0                 0   \n",
              "...                      ...                   ...               ...   \n",
              "249570                     0                     0                 0   \n",
              "249571                     0                     0                 0   \n",
              "249572                     1                     1                 1   \n",
              "249573                     1                     0                 0   \n",
              "249574                     0                     1                 1   \n",
              "\n",
              "        electrnics_cmputrs_grp  exrcse_hlth_grp  gardening  ...  \\\n",
              "0                            1                1          1  ...   \n",
              "1                            0                0          0  ...   \n",
              "2                            0                0          0  ...   \n",
              "3                            0                0          0  ...   \n",
              "4                            0                0          0  ...   \n",
              "...                        ...              ...        ...  ...   \n",
              "249570                       0                0          0  ...   \n",
              "249571                       0                0          0  ...   \n",
              "249572                       1                1          1  ...   \n",
              "249573                       0                0          0  ...   \n",
              "249574                       1                1          1  ...   \n",
              "\n",
              "        ratio_keydeliveries_last_60  ratio_keydeliveries_last_90  \\\n",
              "0                          0.000000                     0.000000   \n",
              "1                          0.000000                     0.000000   \n",
              "2                          0.000000                     0.000000   \n",
              "3                          0.142857                     0.142857   \n",
              "4                          0.000000                     0.000000   \n",
              "...                             ...                          ...   \n",
              "249570                     0.000000                     0.000000   \n",
              "249571                     0.000000                     0.000000   \n",
              "249572                     0.000000                     0.000000   \n",
              "249573                     0.171429                     0.342857   \n",
              "249574                     0.000000                     0.000000   \n",
              "\n",
              "        ratio_keydeliveries_last_180   gender  prob_mix_ro_60t90  \\\n",
              "0                           0.000000        M           0.941965   \n",
              "1                           0.000000  unknown           0.194057   \n",
              "2                           0.000000  unknown           0.939713   \n",
              "3                           0.357143  unknown           0.061939   \n",
              "4                           0.000000  unknown           0.055210   \n",
              "...                              ...      ...                ...   \n",
              "249570                      0.000000  unknown           0.236868   \n",
              "249571                      0.000000  unknown           0.876821   \n",
              "249572                      0.000000        F           0.742817   \n",
              "249573                      0.600000  unknown           0.083841   \n",
              "249574                      0.000000        M           0.488720   \n",
              "\n",
              "        prob_mix_ro_30t60  auto_loans_index  bankcard_utilizn_index  \\\n",
              "0                0.839253                58                      43   \n",
              "1                0.106059           unknown                 unknown   \n",
              "2                0.889442           unknown                 unknown   \n",
              "3                0.113539           unknown                 unknown   \n",
              "4                0.088373           unknown                 unknown   \n",
              "...                   ...               ...                     ...   \n",
              "249570           0.252045           unknown                 unknown   \n",
              "249571           0.768786           unknown                 unknown   \n",
              "249572           0.659772                45                      14   \n",
              "249573           0.195663           unknown                 unknown   \n",
              "249574           0.547661               151                     104   \n",
              "\n",
              "                   zipcodecity  target  \n",
              "0         28443hampsteadpender       0  \n",
              "1         66047lawrencedouglas       0  \n",
              "2       84096herrimansalt_lake       0  \n",
              "3          48072berkleyoakland       0  \n",
              "4       37221nashvilledavidson       0  \n",
              "...                        ...     ...  \n",
              "249570     45013hamiltonbutler       0  \n",
              "249571     45011hamiltonbutler       0  \n",
              "249572  49321comstock_parkkent       0  \n",
              "249573   48867owossoshiawassee       1  \n",
              "249574    33186miamimiami-dade       0  \n",
              "\n",
              "[249575 rows x 105 columns]"
            ]
          },
          "execution_count": 14,
          "metadata": {},
          "output_type": "execute_result"
        }
      ],
      "source": [
        "data"
      ]
    },
    {
      "cell_type": "code",
      "execution_count": 24,
      "id": "cee43959",
      "metadata": {
        "id": "cee43959"
      },
      "outputs": [],
      "source": [
        "from sklearn.inspection import permutation_importance\n",
        "\n",
        "result = permutation_importance(rf, X_test, y_test, n_repeats=10, random_state=42, n_jobs=2)\n",
        "\n",
        "forest_importances = pd.Series(result.importances_mean, index=features)"
      ]
    },
    {
      "cell_type": "code",
      "execution_count": 25,
      "id": "d64136d9",
      "metadata": {
        "colab": {
          "base_uri": "https://localhost:8080/"
        },
        "id": "d64136d9",
        "outputId": "4dc700a1-6f51-4f04-d766-56d57c773ec1"
      },
      "outputs": [
        {
          "output_type": "execute_result",
          "data": {
            "text/plain": [
              "usercreatedate              -0.000168\n",
              "user_creationDate           -0.000200\n",
              "smart_garage_camera_count    0.145097\n",
              "datediff_month              -0.000142\n",
              "engaged_index               -0.000132\n",
              "numopenresponse             -0.000020\n",
              "datediff_create_trans       -0.000142\n",
              "engaged_prob                 0.000078\n",
              "total_opens_last_90t180     -0.000014\n",
              "ratio_open_30               -0.000248\n",
              "ratio_open_60               -0.000258\n",
              "ratio_open_30t60            -0.000118\n",
              "ratio_open_60t90            -0.000138\n",
              "prob_mix_ro_60t90           -0.000164\n",
              "prob_mix_ro_30t60           -0.000154\n",
              "dtype: float64"
            ]
          },
          "metadata": {},
          "execution_count": 25
        }
      ],
      "source": [
        "forest_importances"
      ]
    },
    {
      "cell_type": "code",
      "execution_count": null,
      "id": "637d9501",
      "metadata": {
        "id": "637d9501",
        "outputId": "fc082392-a2f0-4251-cdfd-99ef307771b6"
      },
      "outputs": [
        {
          "data": {
            "image/png": "[encoded data removed]",
            "text/plain": [
              "<Figure size 800x400 with 1 Axes>"
            ]
          },
          "metadata": {},
          "output_type": "display_data"
        }
      ],
      "source": [
        "fig, ax = plt.subplots()\n",
        "forest_importances.plot.bar(yerr=result.importances_std, ax=ax)\n",
        "ax.set_title(\"Feature importances using permutation on full model\")\n",
        "ax.set_ylabel(\"Mean accuracy decrease\")\n",
        "fig.tight_layout()\n",
        "plt.show()"
      ]
    },
    {
      "cell_type": "code",
      "execution_count": null,
      "id": "67040302",
      "metadata": {
        "id": "67040302"
      },
      "outputs": [],
      "source": []
    }
  ],
  "metadata": {
    "kernelspec": {
      "display_name": "Python 3 (ipykernel)",
      "language": "python",
      "name": "python3"
    },
    "language_info": {
      "codemirror_mode": {
        "name": "ipython",
        "version": 3
      },
      "file_extension": ".py",
      "mimetype": "text/x-python",
      "name": "python",
      "nbconvert_exporter": "python",
      "pygments_lexer": "ipython3",
      "version": "3.9.7"
    },
    "colab": {
      "provenance": [],
      "include_colab_link": true
    }
  },
  "nbformat": 4,
  "nbformat_minor": 5
}