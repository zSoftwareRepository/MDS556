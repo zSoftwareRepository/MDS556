{
  "cells": [
    {
      "cell_type": "markdown",
      "metadata": {
        "id": "view-in-github",
        "colab_type": "text"
      },
      "source": [
        "<a href=\"https://colab.research.google.com/github/zSoftwareRepository/MDS556/blob/main/Baseline_Logistic_Regression_scikit_learn.ipynb\" target=\"_parent\"><img src=\"https://colab.research.google.com/assets/colab-badge.svg\" alt=\"Open In Colab\"/></a>"
      ]
    },
    {
      "cell_type": "code",
      "execution_count": 1,
      "id": "4726ac90",
      "metadata": {
        "id": "4726ac90"
      },
      "outputs": [],
      "source": [
        "seed = 23\n",
        "\n",
        "import numpy as np\n",
        "np.random.seed(seed)\n",
        "\n",
        "from sklearn.metrics import classification_report, confusion_matrix, accuracy_score, f1_score\n",
        "from sklearn.model_selection import train_test_split\n",
        "from sklearn.linear_model import LogisticRegression\n",
        "import pandas as pd\n",
        "\n",
        "import matplotlib.pyplot as plt"
      ]
    },
    {
      "cell_type": "code",
      "execution_count": 2,
      "id": "f6cf7bb7",
      "metadata": {
        "id": "f6cf7bb7"
      },
      "outputs": [],
      "source": [
        "features = ['ratio_open_30','prob_mix_ro_30t60','ratio_open_30t60','engaged_prob','engaged_index','avg_key_del_open','ratio_open_60','var_deliveries_last_60',\n",
        "            'std_deliveries_last_90','prob_mix_ro_60t90','ratio_open_60t90','var_key_del_open','avg_deliveries_last_60','ratio_deliveries_last_60',\n",
        "            'ratio_keydeliveries_last_60','ratio_deliveries_last_90','avg_deliveries_last_90','ratio_keydeliveries_last_90','avg_deliveries_last_180',\n",
        "            'ratio_deliveries_last_180','std_key_del_close','ratio_keydeliveries_last_180','datediff_create_trans','datediff_month','ratio_open_90',\n",
        "            'total_opens_last_90t180','app_ratio_open_90t180','app_total_opens_last_180','ratio_open_90t180','total_opens_last_180','app_total_opens_by_device',\n",
        "            'age_1stperson_hushld','app_total_opens_last_90','avg_opens_by_device','std_opens_by_device','app_ratio_open_60t90','app_ratio_open_90',\n",
        "            'app_ratio_open_60','app_total_opens_last_60','app_avg_opens_last_90','app_avg_opens_last_60','app_std_opens_last_60','app_ratio_open_30t60',\n",
        "            'app_std_opens_last_30','app_avg_opens_last_30','app_ratio_open_30','app_total_opens_last_30','no_of_adults_hushld','home_lot_square_footage',\n",
        "            'home_square_footage','vehicle_year_1st','home_loan_amount']"
      ]
    },
    {
      "cell_type": "code",
      "execution_count": 3,
      "id": "db2f71d2",
      "metadata": {
        "id": "db2f71d2"
      },
      "outputs": [],
      "source": [
        "def get_dummies(data,field,prefix):\n",
        "    data[field] = data[field].fillna('na')\n",
        "    dms = pd.get_dummies(data.loc[:,field], prefix=prefix)\n",
        "    return pd.concat([data,dms],axis=1)"
      ]
    },
    {
      "cell_type": "code",
      "source": [
        "#Mount google drive - step 1\n",
        "from google.colab import drive\n",
        "drive.mount('/content/drive')"
      ],
      "metadata": {
        "colab": {
          "base_uri": "https://localhost:8080/"
        },
        "id": "Szr4jYdDCfPd",
        "outputId": "1ffb66fa-4c7c-4527-a75e-be4f3c7476fc"
      },
      "id": "Szr4jYdDCfPd",
      "execution_count": 4,
      "outputs": [
        {
          "output_type": "stream",
          "name": "stdout",
          "text": [
            "Mounted at /content/drive\n"
          ]
        }
      ]
    },
    {
      "cell_type": "code",
      "source": [
        "path = \"drive/MyDrive/Elmhurst_Data/mydata.csv\"\n",
        "data = pd.read_csv(path,low_memory=False)"
      ],
      "metadata": {
        "id": "fZKlyLZUCd6N"
      },
      "id": "fZKlyLZUCd6N",
      "execution_count": 5,
      "outputs": []
    },
    {
      "cell_type": "code",
      "execution_count": 6,
      "id": "0372b289",
      "metadata": {
        "id": "0372b289"
      },
      "outputs": [],
      "source": [
        "target = data[['target']]\n",
        "target.columns=['target']"
      ]
    },
    {
      "cell_type": "code",
      "execution_count": 7,
      "id": "6bd6f3a8",
      "metadata": {
        "id": "6bd6f3a8"
      },
      "outputs": [],
      "source": [
        "data = data.replace(np.nan, 0)"
      ]
    },
    {
      "cell_type": "code",
      "execution_count": 8,
      "id": "5a4fb272",
      "metadata": {
        "id": "5a4fb272"
      },
      "outputs": [],
      "source": [
        "data = data[features + ['gender']]"
      ]
    },
    {
      "cell_type": "code",
      "execution_count": 9,
      "id": "b312c02b",
      "metadata": {
        "id": "b312c02b"
      },
      "outputs": [],
      "source": [
        "data = get_dummies(data,'gender','gnd')"
      ]
    },
    {
      "cell_type": "code",
      "execution_count": 10,
      "id": "e3f939d2",
      "metadata": {
        "id": "e3f939d2"
      },
      "outputs": [],
      "source": [
        "#data.filter(regex='^gnd',axis=1).head()"
      ]
    },
    {
      "cell_type": "code",
      "execution_count": 11,
      "id": "cd392f56",
      "metadata": {
        "id": "cd392f56"
      },
      "outputs": [],
      "source": [
        "drop_features = ['gender']"
      ]
    },
    {
      "cell_type": "code",
      "execution_count": 12,
      "id": "286f7021",
      "metadata": {
        "id": "286f7021"
      },
      "outputs": [],
      "source": [
        "data.drop(drop_features,inplace=True,axis=1)"
      ]
    },
    {
      "cell_type": "code",
      "execution_count": 13,
      "id": "4aef1094",
      "metadata": {
        "id": "4aef1094"
      },
      "outputs": [],
      "source": [
        "X_train, X_test, y_train, y_test = train_test_split(data, target, test_size=0.2, random_state=seed)"
      ]
    },
    {
      "cell_type": "code",
      "execution_count": 14,
      "id": "5a2779ca",
      "metadata": {
        "id": "5a2779ca"
      },
      "outputs": [],
      "source": [
        "y_train = y_train.values.ravel()"
      ]
    },
    {
      "cell_type": "code",
      "execution_count": 15,
      "id": "a7f6b6f6",
      "metadata": {
        "scrolled": true,
        "id": "a7f6b6f6",
        "colab": {
          "base_uri": "https://localhost:8080/"
        },
        "outputId": "1aa5e903-4d6f-413f-c080-957619670917"
      },
      "outputs": [
        {
          "output_type": "stream",
          "name": "stderr",
          "text": [
            "/usr/local/lib/python3.7/dist-packages/sklearn/svm/_base.py:1208: ConvergenceWarning: Liblinear failed to converge, increase the number of iterations.\n",
            "  ConvergenceWarning,\n"
          ]
        }
      ],
      "source": [
        "log = LogisticRegression(penalty='l1', solver='liblinear',fit_intercept=True,max_iter=200)\n",
        "regressor_logit = log.fit(X_train,y_train)"
      ]
    },
    {
      "cell_type": "code",
      "execution_count": 16,
      "id": "7280f5c1",
      "metadata": {
        "id": "7280f5c1"
      },
      "outputs": [],
      "source": [
        "# make predictions for test data and evaluate\n",
        "predictions = regressor_logit.predict(X_test)\n",
        "predictions = np.round(predictions,0)\n",
        "accuracy = accuracy_score(y_test.target, predictions)"
      ]
    },
    {
      "cell_type": "code",
      "execution_count": 17,
      "id": "567a3eb6",
      "metadata": {
        "id": "567a3eb6",
        "colab": {
          "base_uri": "https://localhost:8080/"
        },
        "outputId": "da8e30f6-5bb3-40d0-fa6a-1623b2a77511"
      },
      "outputs": [
        {
          "output_type": "stream",
          "name": "stdout",
          "text": [
            "Accuracy: 90.96%\n",
            "F1 Score: 5.77%\n"
          ]
        }
      ],
      "source": [
        "print(\"Accuracy: %.2f%%\" % (accuracy * 100.0))\n",
        "print(\"F1 Score: %.2f%%\" % (f1_score(y_test.target, predictions) * 100.0))"
      ]
    },
    {
      "cell_type": "code",
      "execution_count": 18,
      "id": "bbbfd1f4",
      "metadata": {
        "id": "bbbfd1f4",
        "colab": {
          "base_uri": "https://localhost:8080/"
        },
        "outputId": "86b36e54-9508-452a-83c7-1b0b918db46f"
      },
      "outputs": [
        {
          "output_type": "stream",
          "name": "stdout",
          "text": [
            "45266 116 4395 138\n"
          ]
        }
      ],
      "source": [
        "# confusion m,atrix\n",
        "tn, fp, fn, tp = confusion_matrix(y_test.target, predictions).ravel()\n",
        "print(tn, fp, fn, tp)"
      ]
    },
    {
      "cell_type": "code",
      "execution_count": 19,
      "id": "f71ef0a8",
      "metadata": {
        "id": "f71ef0a8",
        "colab": {
          "base_uri": "https://localhost:8080/"
        },
        "outputId": "3ff68572-cec8-44fd-a0aa-24aa03bea0dd"
      },
      "outputs": [
        {
          "output_type": "stream",
          "name": "stdout",
          "text": [
            "True Positive Rate: 3.04%\n",
            "True Negative Rate: 99.74%\n"
          ]
        }
      ],
      "source": [
        "sensitivity = tp/(tp+fn)\n",
        "print(\"True Positive Rate: %.2f%%\" % (sensitivity * 100.0))\n",
        "specificity = tn/(tn+fp)\n",
        "print(\"True Negative Rate: %.2f%%\" % (specificity * 100.0))"
      ]
    },
    {
      "cell_type": "code",
      "execution_count": 20,
      "id": "cc082313",
      "metadata": {
        "scrolled": false,
        "id": "cc082313",
        "colab": {
          "base_uri": "https://localhost:8080/"
        },
        "outputId": "0c2ae6d3-0e93-452b-caab-4d6c649a9170"
      },
      "outputs": [
        {
          "output_type": "stream",
          "name": "stdout",
          "text": [
            "              precision    recall  f1-score   support\n",
            "\n",
            "           0       0.91      1.00      0.95     45382\n",
            "           1       0.54      0.03      0.06      4533\n",
            "\n",
            "    accuracy                           0.91     49915\n",
            "   macro avg       0.73      0.51      0.51     49915\n",
            "weighted avg       0.88      0.91      0.87     49915\n",
            "\n"
          ]
        }
      ],
      "source": [
        "print(classification_report(y_test, predictions))"
      ]
    },
    {
      "cell_type": "code",
      "execution_count": 21,
      "id": "412437f8",
      "metadata": {
        "id": "412437f8"
      },
      "outputs": [],
      "source": [
        "cm = confusion_matrix(y_test, predictions)"
      ]
    },
    {
      "cell_type": "code",
      "execution_count": 22,
      "id": "0a139e7f",
      "metadata": {
        "id": "0a139e7f"
      },
      "outputs": [],
      "source": [
        "plt.rc(\"figure\", figsize=(16, 8))\n",
        "plt.rc(\"font\", size=18)"
      ]
    },
    {
      "cell_type": "code",
      "execution_count": 23,
      "id": "a1ee579b",
      "metadata": {
        "scrolled": false,
        "id": "a1ee579b",
        "colab": {
          "base_uri": "https://localhost:8080/",
          "height": 382
        },
        "outputId": "02ec9807-a6f7-4018-904d-db37a8286416"
      },
      "outputs": [
        {
          "output_type": "display_data",
          "data": {
            "text/plain": [
              "<Figure size 432x432 with 1 Axes>"
            ],
            "image/png": "[encoded data removed]"
          },
          "metadata": {
            "needs_background": "light"
          }
        }
      ],
      "source": [
        "fig, ax = plt.subplots(figsize=(6, 6))\n",
        "ax.imshow(cm)\n",
        "ax.grid(False)\n",
        "ax.xaxis.set(ticks=(0, 1), ticklabels=('Predicted 0s', 'Predicted 1s'))\n",
        "ax.yaxis.set(ticks=(0, 1), ticklabels=('Actual 0s', 'Actual 1s'))\n",
        "ax.set_ylim(1.5, -0.5)\n",
        "for i in range(2):\n",
        "    for j in range(2):\n",
        "        ax.text(j, i, cm[i, j], ha='center', va='center', color='red')\n",
        "plt.show()"
      ]
    },
    {
      "cell_type": "code",
      "execution_count": 24,
      "id": "b63f561d",
      "metadata": {
        "id": "b63f561d"
      },
      "outputs": [],
      "source": [
        "c1 = pd.DataFrame(data.columns.values.reshape(-1,1),columns=['features'])\n",
        "c2 = pd.DataFrame(log.coef_.reshape(-1,1),columns=['coefficients'])"
      ]
    },
    {
      "cell_type": "code",
      "execution_count": 25,
      "id": "3dd1dc98",
      "metadata": {
        "scrolled": false,
        "id": "3dd1dc98"
      },
      "outputs": [],
      "source": [
        "coefficients = pd.concat([c1,c2],axis=1)\n",
        "coefficients['exp'] = np.exp(coefficients.coefficients)"
      ]
    },
    {
      "cell_type": "code",
      "execution_count": 26,
      "id": "0a871f8a",
      "metadata": {
        "id": "0a871f8a"
      },
      "outputs": [],
      "source": [
        "coefficients.to_csv('drive/MyDrive/Elmhurst_Data/coefficients.csv',index=False)"
      ]
    },
    {
      "cell_type": "code",
      "execution_count": null,
      "id": "d145c2cd",
      "metadata": {
        "id": "d145c2cd"
      },
      "outputs": [],
      "source": []
    }
  ],
  "metadata": {
    "kernelspec": {
      "display_name": "Python 3 (ipykernel)",
      "language": "python",
      "name": "python3"
    },
    "language_info": {
      "codemirror_mode": {
        "name": "ipython",
        "version": 3
      },
      "file_extension": ".py",
      "mimetype": "text/x-python",
      "name": "python",
      "nbconvert_exporter": "python",
      "pygments_lexer": "ipython3",
      "version": "3.9.13"
    },
    "colab": {
      "provenance": [],
      "include_colab_link": true
    }
  },
  "nbformat": 4,
  "nbformat_minor": 5
}